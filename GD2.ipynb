{
  "nbformat": 4,
  "nbformat_minor": 0,
  "metadata": {
    "colab": {
      "name": "GD2.ipynb",
      "provenance": [],
      "collapsed_sections": [],
      "authorship_tag": "ABX9TyNRi4llOEeImiRy05EKi1jq",
      "include_colab_link": true
    },
    "kernelspec": {
      "name": "python3",
      "display_name": "Python 3"
    },
    "language_info": {
      "name": "python"
    }
  },
  "cells": [
    {
      "cell_type": "markdown",
      "metadata": {
        "id": "view-in-github",
        "colab_type": "text"
      },
      "source": [
        "<a href=\"https://colab.research.google.com/github/nnh92/GD2/blob/main/GD2.ipynb\" target=\"_parent\"><img src=\"https://colab.research.google.com/assets/colab-badge.svg\" alt=\"Open In Colab\"/></a>"
      ]
    },
    {
      "cell_type": "code",
      "metadata": {
        "id": "z_uOdLi4153m",
        "colab": {
          "base_uri": "https://localhost:8080/"
        },
        "outputId": "6c799ce4-0641-49ce-9924-166f95b9ad7f"
      },
      "source": [
        "from __future__ import division\n",
        "import numpy as np\n",
        "import math\n",
        "import matplotlib.pyplot as plt\n",
        "\n",
        "def grad(x):\n",
        "  return 2*x + 5*np.cos(x)\n",
        "def cost(x):\n",
        "  return x*x + 5*np.sin(x)\n",
        "def myGD(eta, x0):\n",
        "  i = 0\n",
        "  x = [x0]\n",
        "  for i in range(100):\n",
        "    x_new = x[-1] - eta*grad(x[-1])\n",
        "    x.append(x_new)\n",
        "    #print(x[-1], x_new)\n",
        "    if abs(grad(x_new)) < 0.001:\n",
        "      break\n",
        "  return (x, i)\n",
        "\n",
        "(x, i) = myGD(0.1, -5)\n",
        "\n",
        "print(x[-1], cost(x[-1]), i)\n",
        "print([x])"
      ],
      "execution_count": null,
      "outputs": [
        {
          "output_type": "stream",
          "text": [
            "-1.1105655006818749 -3.246394262892074 11\n",
            "[[-5, -4.141831092731613, -3.0434140487394945, -1.9371390635788721, -1.370609623535342, -1.1959138533062952, -1.1398126662660861, -1.1207324901805855, -1.1140974995041208, -1.1117718342401366, -1.1109543623859697, -1.1106667365268623, -1.1105655006818749]]\n"
          ],
          "name": "stdout"
        }
      ]
    }
  ]
}