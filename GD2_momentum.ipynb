{
  "nbformat": 4,
  "nbformat_minor": 0,
  "metadata": {
    "colab": {
      "name": "GD2.ipynb",
      "provenance": [],
      "collapsed_sections": [],
      "authorship_tag": "ABX9TyN2xsImYO0/7muObocxQBXb",
      "include_colab_link": true
    },
    "kernelspec": {
      "name": "python3",
      "display_name": "Python 3"
    },
    "language_info": {
      "name": "python"
    }
  },
  "cells": [
    {
      "cell_type": "markdown",
      "metadata": {
        "id": "view-in-github",
        "colab_type": "text"
      },
      "source": [
        "<a href=\"https://colab.research.google.com/github/nnh92/GD2/blob/Case3/GD2_momentum.ipynb\" target=\"_parent\"><img src=\"https://colab.research.google.com/assets/colab-badge.svg\" alt=\"Open In Colab\"/></a>"
      ]
    },
    {
      "cell_type": "code",
      "metadata": {
        "id": "z_uOdLi4153m",
        "colab": {
          "base_uri": "https://localhost:8080/",
          "height": 283
        },
        "outputId": "05a9cdbb-a6a5-483a-8a7d-39707167e42c"
      },
      "source": [
        "from __future__ import division\n",
        "import numpy as np\n",
        "import math\n",
        "import matplotlib.pyplot as plt\n",
        "\n",
        "def grad(x):\n",
        "  return 2*x + 10*np.cos(x)\n",
        "def cost(x):\n",
        "  return x*x + 10*np.sin(x)\n",
        "\n",
        "def has_converged(x_new, grad):\n",
        "  return np.linalg.norm(grad(x_new))/len(x) < 1e-3\n",
        "\n",
        "def GD_momentum(gama, eta, x0):\n",
        "  i = 0\n",
        "  x = [x0]\n",
        "  v_old = np.zeros_like(x0)\n",
        "  for i in range(200):\n",
        "    v_new = gama*v_old + eta*grad(x[-1])\n",
        "    x_new = x[-1] - v_new\n",
        "    x.append(x_new)\n",
        "    #print(x[-1], x_new)\n",
        "    if has_converged(x_new, grad):\n",
        "      break\n",
        "    v_old = v_new\n",
        "  return (x, i)\n",
        "\n",
        "(x, i) = GD_momentum(0.9, 0.01, 6)\n",
        "\n",
        "print(x[-1], cost(x[-1]), i)\n",
        "#print([x])\n",
        "\n",
        "x1 = np.linspace(-4,6,200)\n",
        "y1 = cost(x1)\n",
        "y =[]\n",
        "#print(x)\n",
        "for i in range(len(x)):\n",
        "  y.append(cost(x[i]))\n",
        "\n",
        "plt.plot(x1,y1,'r')\n",
        "plt.plot(x,y,'b*')\n",
        "plt.show()"
      ],
      "execution_count": 50,
      "outputs": [
        {
          "output_type": "stream",
          "text": [
            "-1.320975394891924 -7.944591089413273 46\n"
          ],
          "name": "stdout"
        },
        {
          "output_type": "display_data",
          "data": {
            "image/png": "[encoded data removed]",
            "text/plain": [
              "<Figure size 432x288 with 1 Axes>"
            ]
          },
          "metadata": {
            "tags": [],
            "needs_background": "light"
          }
        }
      ]
    }
  ]
}