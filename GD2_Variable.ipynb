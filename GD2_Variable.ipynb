{
  "nbformat": 4,
  "nbformat_minor": 0,
  "metadata": {
    "colab": {
      "name": "GD2.ipynb",
      "provenance": [],
      "collapsed_sections": [],
      "authorship_tag": "ABX9TyNhYlDZxdPMuVV3VOOe9Uvr",
      "include_colab_link": true
    },
    "kernelspec": {
      "name": "python3",
      "display_name": "Python 3"
    },
    "language_info": {
      "name": "python"
    }
  },
  "cells": [
    {
      "cell_type": "markdown",
      "metadata": {
        "id": "view-in-github",
        "colab_type": "text"
      },
      "source": [
        "<a href=\"https://colab.research.google.com/github/nnh92/GD2/blob/Case2/GD2_Variable.ipynb\" target=\"_parent\"><img src=\"https://colab.research.google.com/assets/colab-badge.svg\" alt=\"Open In Colab\"/></a>"
      ]
    },
    {
      "cell_type": "code",
      "metadata": {
        "id": "z_uOdLi4153m",
        "colab": {
          "base_uri": "https://localhost:8080/"
        },
        "outputId": "a6e3f883-de80-409e-cd7d-a0ec5b02c297"
      },
      "source": [
        "from __future__ import division\n",
        "import numpy as np\n",
        "import math\n",
        "import matplotlib.pyplot as plt\n",
        "\n",
        "def grad(x):\n",
        "  return 2*x + 5*np.cos(x) - np.sin(x)\n",
        "def cost(x):\n",
        "  return x*x + 5*np.sin(x) + np.cos(x)\n",
        "def myGD(eta, x0):\n",
        "  i = 0\n",
        "  x = [x0]\n",
        "  for i in range(100):\n",
        "    x_new = x[-1] - eta*grad(x[-1])\n",
        "    x.append(x_new)\n",
        "    #print(x[-1], x_new)\n",
        "    if abs(grad(x_new)) < 0.001:\n",
        "      break\n",
        "  return (x, i)\n",
        "\n",
        "(x, i) = myGD(0.1, -10)\n",
        "\n",
        "print(x[-1], cost(x[-1]), i)\n",
        "#print([x])"
      ],
      "execution_count": 4,
      "outputs": [
        {
          "output_type": "stream",
          "text": [
            "-1.2540614769982492 -2.867151635502814 14\n"
          ],
          "name": "stdout"
        }
      ]
    }
  ]
}