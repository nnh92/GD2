{
  "nbformat": 4,
  "nbformat_minor": 0,
  "metadata": {
    "colab": {
      "name": "GD2.ipynb",
      "provenance": [],
      "collapsed_sections": [],
      "authorship_tag": "ABX9TyMCufzfzcOn4Qe9mFXwV/mW",
      "include_colab_link": true
    },
    "kernelspec": {
      "name": "python3",
      "display_name": "Python 3"
    },
    "language_info": {
      "name": "python"
    }
  },
  "cells": [
    {
      "cell_type": "markdown",
      "metadata": {
        "id": "view-in-github",
        "colab_type": "text"
      },
      "source": [
        "<a href=\"https://colab.research.google.com/github/nnh92/GD2/blob/Case2/GD2_Variable.ipynb\" target=\"_parent\"><img src=\"https://colab.research.google.com/assets/colab-badge.svg\" alt=\"Open In Colab\"/></a>"
      ]
    },
    {
      "cell_type": "code",
      "metadata": {
        "id": "z_uOdLi4153m",
        "colab": {
          "base_uri": "https://localhost:8080/",
          "height": 303
        },
        "outputId": "b4115446-9714-480d-d6fd-913e3fce4613"
      },
      "source": [
        "from __future__ import division\n",
        "import numpy as np\n",
        "import math\n",
        "import matplotlib.pyplot as plt\n",
        "#np.random.seed(5)\n",
        "\n",
        "x = np.random.rand(200,1)*10-5\n",
        "\n",
        "def grad(x):\n",
        "  return 4\n",
        "def cost(x):\n",
        "  return x*4 + 5\n",
        "\n",
        "y = cost(x) + 5*np.random.rand(200,1)\n",
        "\n",
        "one = np.ones((x.shape[0],1))\n",
        "Xbar = np.concatenate((one,x), axis = 1)\n",
        "\n",
        "A = np.dot(Xbar.T,Xbar)\n",
        "b = np.dot(Xbar.T,y)\n",
        "\n",
        "w_lr = np.dot(np.linalg.pinv(A),b)\n",
        "print(\"Solution found by fomular: w = \",w_lr.T)\n",
        "\n",
        "w0 = w_lr[0]\n",
        "w1 = w_lr[1]\n",
        "\n",
        "x0 = np.linspace(-6,6,100)\n",
        "y0 = w0 + w1*x0\n",
        "def myGD(eta, x0):\n",
        "  i = 0\n",
        "  x = [x0]\n",
        "  for i in range(500):\n",
        "    x_new = x[-1] - eta*grad(x[-1])\n",
        "    x.append(x_new)\n",
        "    #print(x[-1], x_new)\n",
        "    if abs(grad(x_new)) < 0.001:\n",
        "      break\n",
        "  return (x, i)\n",
        "\n",
        "#(x, i) = myGD(0.1, -5)\n",
        "\n",
        "#print(x[-1], cost(x[-1]), i)\n",
        "#print([x])\n",
        "\n",
        "ybar = []\n",
        "for i in range(len(x)):\n",
        "  ybar.append(cost(x[i]))\n",
        "\n",
        "x1 = np.linspace(-6,6,200)\n",
        "y1 = cost(x1)\n",
        "\n",
        "\n",
        "plt.plot(x0,y0,'y')\n",
        "plt.plot(x1,y1,'r')\n",
        "plt.plot(x,y,'b*')\n",
        "plt.show()"
      ],
      "execution_count": 29,
      "outputs": [
        {
          "output_type": "stream",
          "text": [
            "Solution found by fomular: w =  [[7.60665384 4.00021009]]\n"
          ],
          "name": "stdout"
        },
        {
          "output_type": "display_data",
          "data": {
            "image/png": "[encoded data removed]",
            "text/plain": [
              "<Figure size 432x288 with 1 Axes>"
            ]
          },
          "metadata": {
            "tags": [],
            "needs_background": "light"
          }
        }
      ]
    }
  ]
}